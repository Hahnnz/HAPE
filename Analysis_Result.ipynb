{
 "cells": [
  {
   "cell_type": "code",
   "execution_count": null,
   "metadata": {
    "scrolled": true
   },
   "outputs": [],
   "source": [
    "from models.regressionnet_resnet import *\n",
    "from scripts import tools\n",
    "from scripts import dataset\n",
    "from scripts.config import *\n",
    "import cv2\n",
    "\n",
    "tools.etc.set_GPU(\"1\")"
   ]
  },
  {
   "cell_type": "code",
   "execution_count": null,
   "metadata": {},
   "outputs": [],
   "source": [
    "net = Regressionnet(data_shape=(128,128,3),num_joints=14,gpu_memory_fraction=None, phase='inference')  \n",
    "\n",
    "with net.graph.as_default():\n",
    "    saver = tf.train.Saver()\n",
    "    saver.restore(net.sess, \"./snapshots/Human_Joint_Pointer/Regressionnet_highest_pcp.ckpt\")\n",
    "    \n",
    "    test_it = dataset.met(\"./dataset/MET7/met7_test.csv\", Bbox=True, Bbox_mode='apply', scale_set=[4.0],\n",
    "                          re_img_size=(128,128), dataset_root=\"./dataset/MET7/\", Shuffle=False, normalize=True)\n",
    "    \n",
    "orig_img_set = dataset.met(\"./dataset/MET7/met7_test.csv\", Bbox=True, Bbox_mode='apply', scale_set=[4.0],\n",
    "                           re_img_size=(128,128), dataset_root=\"./dataset/MET7/\", Shuffle=False, normalize=False).img_set"
   ]
  },
  {
   "cell_type": "code",
   "execution_count": null,
   "metadata": {},
   "outputs": [],
   "source": [
    "tools.analysis.show_dataset(orig_img_set, test_it.labels.squeeze())"
   ]
  },
  {
   "cell_type": "code",
   "execution_count": null,
   "metadata": {},
   "outputs": [],
   "source": [
    "predicted_joints = net.sess.run(\n",
    "    [net.fc_regression],\n",
    "    feed_dict={net.x : test_it.img_set, net.keep_prob:1.0, net.is_train: False})[0]\n",
    "\n",
    "predicted_joints = predicted_joints.reshape(len(predicted_joints),14,2)\n",
    "pred_canonical = tools.pose.convert2canonical(predicted_joints)\n",
    "orig_canonical = tools.pose.convert2canonical(test_it.coor_set.reshape(-1,14,2))"
   ]
  },
  {
   "cell_type": "code",
   "execution_count": null,
   "metadata": {},
   "outputs": [],
   "source": [
    "tools.analysis.get_pcp_stick_result_table_per_activities(test_it.labels, orig_canonical, pred_canonical)"
   ]
  },
  {
   "cell_type": "code",
   "execution_count": null,
   "metadata": {},
   "outputs": [],
   "source": [
    "tools.analysis.show_pcp_result_plot_per_sticks(test_it.labels, orig_canonical, pred_canonical)"
   ]
  },
  {
   "cell_type": "code",
   "execution_count": null,
   "metadata": {},
   "outputs": [],
   "source": [
    "tools.analysis.visualize_Variances_per_joint(test_it.labels, test_it.coor_set, predicted_joints)"
   ]
  },
  {
   "cell_type": "code",
   "execution_count": null,
   "metadata": {},
   "outputs": [],
   "source": [
    "tools.analysis.hist_Variance_Bias_per_joint(test_it.coor_set, predicted_joints)"
   ]
  },
  {
   "cell_type": "code",
   "execution_count": null,
   "metadata": {},
   "outputs": [],
   "source": [
    "tools.analysis.plot_total_pcp_result(test_it.labels, orig_canonical, pred_canonical)"
   ]
  },
  {
   "cell_type": "code",
   "execution_count": null,
   "metadata": {},
   "outputs": [],
   "source": [
    "idx=157\n",
    "\n",
    "tools.analysis.demo_plot(orig_img_set[idx], orig_canonical[idx], pred_canonical[idx])"
   ]
  },
  {
   "cell_type": "code",
   "execution_count": null,
   "metadata": {},
   "outputs": [],
   "source": [
    "tools.analysis.plot_variance_bias_on_image(157, orig_img_set, test_it.coor_set, predicted_joints)"
   ]
  },
  {
   "cell_type": "code",
   "execution_count": null,
   "metadata": {},
   "outputs": [],
   "source": [
    "tools.analysis.show_estimated(orig_img_set, test_it.labels.squeeze(), pred_canonical)"
   ]
  }
 ],
 "metadata": {
  "kernelspec": {
   "display_name": "Python 3",
   "language": "python",
   "name": "python3"
  },
  "language_info": {
   "codemirror_mode": {
    "name": "ipython",
    "version": 3
   },
   "file_extension": ".py",
   "mimetype": "text/x-python",
   "name": "python",
   "nbconvert_exporter": "python",
   "pygments_lexer": "ipython3",
   "version": "3.5.2"
  }
 },
 "nbformat": 4,
 "nbformat_minor": 2
}
