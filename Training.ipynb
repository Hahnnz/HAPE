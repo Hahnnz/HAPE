{
 "cells": [
  {
   "cell_type": "code",
   "execution_count": 1,
   "metadata": {},
   "outputs": [],
   "source": [
    "from scripts import dataset, tools, iterator\n",
    "from models import alexnet, regressionnet\n",
    "from tensorflow.contrib.data import Iterator\n",
    "from IPython.display import clear_output\n",
    "from copy import copy\n",
    "from tqdm import tqdm\n",
    "import math, os\n",
    "import tensorflow as tf\n",
    "import numpy as np\n",
    "tools.etc.set_GPU(\"3\")"
   ]
  },
  {
   "cell_type": "code",
   "execution_count": 2,
   "metadata": {},
   "outputs": [
    {
     "name": "stderr",
     "output_type": "stream",
     "text": [
      "[Processing Images & Coordinates]: 100%|██████████| 476/476 [00:01<00:00, 290.97it/s]\n",
      "[Mirroring Images & Coordinates]: 100%|██████████| 476/476 [00:00<00:00, 1492.41it/s]\n",
      "[Processing Images & Coordinates]: 100%|██████████| 53/53 [00:00<00:00, 152.81it/s]\n",
      "[Mirroring Images & Coordinates]: 100%|██████████| 53/53 [00:00<00:00, 745.33it/s]\n"
     ]
    }
   ],
   "source": [
    "net, loss_op, pose_loss_op, train_op = regressionnet.create_regression_net(data_shape=(227,227,3),optimizer_type='adadelta',num_joints=14)\n",
    "    \n",
    "with net.graph.as_default():\n",
    "    saver = tf.train.Saver()\n",
    "\n",
    "    train_it = dataset.met(\"/var/data/MET2/activity-met_n10_ub_train.csv\", Fliplr=True, Shuffle=True)\n",
    "    test_it = dataset.met(\"/var/data/MET2/activity-met_n10_ub_test.csv\", Fliplr=True, Shuffle=True)\n",
    "\n",
    "    summary_writer = tf.summary.FileWriter(\"./out/\", net.sess.graph)\n",
    "    summary_op = tf.summary.merge_all()"
   ]
  },
  {
   "cell_type": "code",
   "execution_count": 3,
   "metadata": {},
   "outputs": [],
   "source": [
    "def calculate_pcp(gt_joints, predicted_joints):\n",
    "    predicted_joints = np.clip(predicted_joints.reshape(len(predicted_joints),14,2), -0.5, 0.5)\n",
    "    pred_canonical = tools.pose.convert2canonical(predicted_joints)\n",
    "    gt_canonical = tools.pose.convert2canonical(gt_joints)\n",
    "\n",
    "    pcp_value=tools.pose.eval_strict_pcp(joints_gt=gt_canonical,predicted_joints=pred_canonical)\n",
    "    average_pcp = tools.pose.average_pcp_left_right_limbs(pcp_value)\n",
    "    return average_pcp"
   ]
  },
  {
   "cell_type": "code",
   "execution_count": 4,
   "metadata": {},
   "outputs": [],
   "source": [
    "iter_num = 100000\n",
    "snapshot_step = 5000\n",
    "global_step = None\n",
    "cur_train_op = train_op"
   ]
  },
  {
   "cell_type": "code",
   "execution_count": 5,
   "metadata": {},
   "outputs": [
    {
     "name": "stderr",
     "output_type": "stream",
     "text": [
      "[ Step : 100000]: 100%|██████████| 100000/100000 [46:59:48<00:00,  1.69s/it,  Train Loss : 36.113243103027344[0. 0. 0. 0. 0. 0. 0.] Test Loss : 2681.6362[0.0, 0.0, 0.0, 0.0, 0.0, 0.0, 0.0]]\n"
     ]
    }
   ],
   "source": [
    "with tf.device(\"/gpu:0\"):\n",
    "    with tqdm(total = iter_num) as pbar:\n",
    "        for step in range(iter_num):\n",
    "                \n",
    "            tr_cost = 0.\n",
    "            tr_cnt = 0\n",
    "            tr_acc = np.zeros((7),np.float)\n",
    "            for n in range(2):\n",
    "                x=train_it.img_set[:476] if n==0 else train_it.img_set[476:]\n",
    "                y=train_it.coor_set.reshape(952,-1)[:476] if n == 0 else train_it.coor_set.reshape(952,-1)[476:]\n",
    "                v=train_it.joint_is_valid[:476] if n==0 else train_it.joint_is_valid[476:]\n",
    "                global_step, summary_str, _, loss_value, score = net.sess.run(\n",
    "                    [net.global_iter_counter,summary_op,cur_train_op,pose_loss_op, net.fc_regression],\n",
    "                    feed_dict={net.x : x,\n",
    "                               'PoseInput/joints_ground_truth:0' : y,\n",
    "                               'PoseInput/joints_is_valid:0': v,\n",
    "                               'lr/conv_lr:0': 1.,\n",
    "                               'lr/fc_lr:0': 1.})\n",
    "                tr_cost+=loss_value\n",
    "                tr_cnt+=1\n",
    "                tr_acc+=calculate_pcp(y[0].reshape(-1,14,2),score)[0]\n",
    "                \n",
    "            \n",
    "            loss_value, score = net.sess.run(\n",
    "                [pose_loss_op,net.fc_regression],\n",
    "                feed_dict={net.x : test_it.img_set,\n",
    "                           'PoseInput/joints_ground_truth:0' : test_it.coor_set.reshape(len(test_it.coor_set),-1),\n",
    "                           'PoseInput/joints_is_valid:0': test_it.joint_is_valid,\n",
    "                           'lr/conv_lr:0': 1.,\n",
    "                           'lr/fc_lr:0': 1.})\n",
    "            te_acc = calculate_pcp(test_it.coor_set,score)[0]\n",
    "            \n",
    "            if step%snapshot_step==0 and step !=0:\n",
    "                saver.save(net.sess, \"./out/alexnet_\"+str(step)+\".ckpt\")\n",
    "            \n",
    "            clear_output()\n",
    "            \n",
    "            pbar.update(1)\n",
    "            pbar.set_description(\"[ Step : \"+str(step+1)+\"]\")\n",
    "            pbar.set_postfix_str(\" Train Loss : \"+str(tr_cost/tr_cnt)+str(tr_acc)+\" Test Loss : \"+str(loss_value)+str(te_acc))"
   ]
  }
 ],
 "metadata": {
  "kernelspec": {
   "display_name": "Python 3",
   "language": "python",
   "name": "python3"
  },
  "language_info": {
   "codemirror_mode": {
    "name": "ipython",
    "version": 3
   },
   "file_extension": ".py",
   "mimetype": "text/x-python",
   "name": "python",
   "nbconvert_exporter": "python",
   "pygments_lexer": "ipython3",
   "version": "3.5.2"
  }
 },
 "nbformat": 4,
 "nbformat_minor": 2
}
