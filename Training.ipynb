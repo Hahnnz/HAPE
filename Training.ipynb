{
 "cells": [
  {
   "cell_type": "code",
   "execution_count": 1,
   "metadata": {},
   "outputs": [],
   "source": [
    "from scripts import dataset, tools, iterator\n",
    "from models import alexnet, regressionnet\n",
    "from tensorflow.contrib.data import Iterator\n",
    "from copy import copy\n",
    "from tqdm import tqdm\n",
    "import math, os\n",
    "import tensorflow as tf\n",
    "import numpy as np\n",
    "tools.etc.set_GPU(\"0\")"
   ]
  },
  {
   "cell_type": "code",
   "execution_count": 2,
   "metadata": {},
   "outputs": [
    {
     "name": "stderr",
     "output_type": "stream",
     "text": [
      "[Processing Images & Coordinates]: 100%|██████████| 476/476 [00:01<00:00, 303.49it/s]\n",
      "[Mirroring Images & Coordinates]: 100%|██████████| 476/476 [00:00<00:00, 1514.38it/s]\n",
      "[Processing Images & Coordinates]: 100%|██████████| 53/53 [00:00<00:00, 157.02it/s]\n",
      "[Mirroring Images & Coordinates]: 100%|██████████| 53/53 [00:00<00:00, 1487.90it/s]\n"
     ]
    }
   ],
   "source": [
    "net, loss_op, pose_loss_op, train_op = regressionnet.create_regression_net(data_shape=(227,227,3),optimizer_type='adadelta',num_joints=14)\n",
    "    \n",
    "with net.graph.as_default():\n",
    "    saver = tf.train.Saver()\n",
    "\n",
    "    train_it = dataset.met(\"/var/data/MET2/activity-met_n10_ub_train.csv\", Fliplr=True, Shuffle=True)\n",
    "    test_it = dataset.met(\"/var/data/MET2/activity-met_n10_ub_test.csv\", Fliplr=True, Shuffle=True)\n",
    "\n",
    "    summary_writer = tf.summary.FileWriter(\"./out/\", net.sess.graph)\n",
    "    summary_op = tf.summary.merge_all()"
   ]
  },
  {
   "cell_type": "code",
   "execution_count": 4,
   "metadata": {},
   "outputs": [],
   "source": [
    "iter_num = 50000\n",
    "snapshot_step = 2000\n",
    "global_step = None\n",
    "cur_train_op = train_op"
   ]
  },
  {
   "cell_type": "code",
   "execution_count": null,
   "metadata": {},
   "outputs": [
    {
     "name": "stderr",
     "output_type": "stream",
     "text": [
      "[ Step : 5819]:  12%|█▏        | 5819/50000 [2:55:54<22:11:28,  1.81s/it,  Train Loss : 330.593109131 Test Loss : 259.05]  IOPub message rate exceeded.\n",
      "The notebook server will temporarily stop sending output\n",
      "to the client in order to avoid crashing it.\n",
      "To change this limit, set the config variable\n",
      "`--NotebookApp.iopub_msg_rate_limit`.\n",
      "\n",
      "Current values:\n",
      "NotebookApp.iopub_msg_rate_limit=1000.0 (msgs/sec)\n",
      "NotebookApp.rate_limit_window=3.0 (secs)\n",
      "\n",
      "[ Step : 10375]:  21%|██        | 10375/50000 [5:14:58<19:26:54,  1.77s/it,  Train Loss : 125.840366364 Test Loss : 115.107]IOPub message rate exceeded.\n",
      "The notebook server will temporarily stop sending output\n",
      "to the client in order to avoid crashing it.\n",
      "To change this limit, set the config variable\n",
      "`--NotebookApp.iopub_msg_rate_limit`.\n",
      "\n",
      "Current values:\n",
      "NotebookApp.iopub_msg_rate_limit=1000.0 (msgs/sec)\n",
      "NotebookApp.rate_limit_window=3.0 (secs)\n",
      "\n",
      "[ Step : 12740]:  25%|██▌       | 12740/50000 [6:27:56<19:37:35,  1.90s/it,  Train Loss : 118.325061798 Test Loss : 98.6518]IOPub message rate exceeded.\n",
      "The notebook server will temporarily stop sending output\n",
      "to the client in order to avoid crashing it.\n",
      "To change this limit, set the config variable\n",
      "`--NotebookApp.iopub_msg_rate_limit`.\n",
      "\n",
      "Current values:\n",
      "NotebookApp.iopub_msg_rate_limit=1000.0 (msgs/sec)\n",
      "NotebookApp.rate_limit_window=3.0 (secs)\n",
      "\n",
      "[ Step : 14128]:  28%|██▊       | 14128/50000 [7:10:41<18:57:34,  1.90s/it,  Train Loss : 808.495300293 Test Loss : 547.558]IOPub message rate exceeded.\n",
      "The notebook server will temporarily stop sending output\n",
      "to the client in order to avoid crashing it.\n",
      "To change this limit, set the config variable\n",
      "`--NotebookApp.iopub_msg_rate_limit`.\n",
      "\n",
      "Current values:\n",
      "NotebookApp.iopub_msg_rate_limit=1000.0 (msgs/sec)\n",
      "NotebookApp.rate_limit_window=3.0 (secs)\n",
      "\n",
      "[ Step : 19178]:  38%|███▊      | 19178/50000 [9:46:22<15:38:49,  1.83s/it,  Train Loss : 99.319152832 Test Loss : 66.9592] IOPub message rate exceeded.\n",
      "The notebook server will temporarily stop sending output\n",
      "to the client in order to avoid crashing it.\n",
      "To change this limit, set the config variable\n",
      "`--NotebookApp.iopub_msg_rate_limit`.\n",
      "\n",
      "Current values:\n",
      "NotebookApp.iopub_msg_rate_limit=1000.0 (msgs/sec)\n",
      "NotebookApp.rate_limit_window=3.0 (secs)\n",
      "\n",
      "[ Step : 24607]:  49%|████▉     | 24607/50000 [12:33:14<13:09:53,  1.87s/it,  Train Loss : 100.354873657 Test Loss : 79.3192]"
     ]
    }
   ],
   "source": [
    "with tf.device(\"/gpu:0\"):\n",
    "    with tqdm(total = iter_num) as pbar:\n",
    "        for step in range(iter_num):\n",
    "                \n",
    "            tr_cost = 0.\n",
    "            tr_cnt = 0\n",
    "            for n in range(2):\n",
    "                global_step, summary_str, _, loss_value = net.sess.run(\n",
    "                    [net.global_iter_counter,summary_op,cur_train_op,pose_loss_op],\n",
    "                    feed_dict={net.x : train_it.img_set[:476] if n==0 else train_it.img_set[476:],\n",
    "                               'PoseInput/joints_ground_truth:0' : train_it.coor_set.reshape(952,-1)[:476] if n == 0 else train_it.coor_set.reshape(952,-1)[476:],\n",
    "                               'PoseInput/joints_is_valid:0': train_it.joint_is_valid[:476] if n==0 else train_it.joint_is_valid[476:],\n",
    "                               'lr/conv_lr:0': 1.,\n",
    "                               'lr/fc_lr:0': 1.})\n",
    "                tr_cost+=loss_value\n",
    "                tr_cnt+=1\n",
    "            \n",
    "            global_step, summary_str, _, loss_value = net.sess.run(\n",
    "                [net.global_iter_counter,summary_op,cur_train_op,pose_loss_op],\n",
    "                feed_dict={net.x : test_it.img_set,\n",
    "                           'PoseInput/joints_ground_truth:0' : test_it.coor_set.reshape(len(test_it.coor_set),-1),\n",
    "                           'PoseInput/joints_is_valid:0': test_it.joint_is_valid,\n",
    "                           'lr/conv_lr:0': 1.,\n",
    "                           'lr/fc_lr:0': 1.})\n",
    "            \n",
    "            if step%snapshot_step==0 and step !=0:\n",
    "                saver.save(net.sess, \"./out/alexnet_\"+str(step)+\".ckpt\")\n",
    "            \n",
    "            pbar.update(1)\n",
    "            pbar.set_description(\"[ Step : \"+str(step+1)+\"]\")\n",
    "            pbar.set_postfix_str(\" Train Loss : \"+str(tr_cost/tr_cnt)+\" Test Loss : \"+str(loss_value))"
   ]
  }
 ],
 "metadata": {
  "kernelspec": {
   "display_name": "Python 3",
   "language": "python",
   "name": "python3"
  },
  "language_info": {
   "codemirror_mode": {
    "name": "ipython",
    "version": 3
   },
   "file_extension": ".py",
   "mimetype": "text/x-python",
   "name": "python",
   "nbconvert_exporter": "python",
   "pygments_lexer": "ipython3",
   "version": "3.5.2"
  }
 },
 "nbformat": 4,
 "nbformat_minor": 2
}
