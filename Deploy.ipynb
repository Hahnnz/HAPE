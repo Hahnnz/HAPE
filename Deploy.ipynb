{
 "cells": [
  {
   "cell_type": "code",
   "execution_count": null,
   "metadata": {},
   "outputs": [],
   "source": [
    "import cv2\n",
    "import numpy as np\n",
    "import pandas as pd\n",
    "import tensorflow as tf\n",
    "import matplotlib.pyplot as plt\n",
    "\n",
    "from models import Unet, regressionnet, ann\n",
    "from scripts import tools\n",
    "\n",
    "#tools.etc.set_GPU('0,1')\n",
    "%matplotlib inline"
   ]
  },
  {
   "cell_type": "code",
   "execution_count": null,
   "metadata": {},
   "outputs": [],
   "source": [
    "test_path1 = \"/home/hahnz/imgroom1/180919 14:26:20.jpg\"\n",
    "test_path2 = \"/home/hahnz/imgroom1/180919 14:26:22.jpg\""
   ]
  },
  {
   "cell_type": "code",
   "execution_count": null,
   "metadata": {},
   "outputs": [],
   "source": [
    "with tf.device('/device:GPU:0'):\n",
    "    Human_Detector = Unet.Unet((128,128,3),(128,128,3),2)\n",
    "    with Human_Detector.graph.as_default():\n",
    "        tf.train.Saver().restore(Human_Detector.sess, \"./snapshots/Human_Detector/Unet_Human_only.ckpt\")\n",
    "\n",
    "with tf.device('/device:GPU:1'):\n",
    "    Human_Joint_Pointer, _, _, _ = regressionnet.create_regression_net(data_shape=(128,128,3),\n",
    "                                                                       optimizer_type='adadelta',num_joints=14,\n",
    "                                                                       net_type='convnet1', gpu_memory_fraction=None)\n",
    "    with Human_Joint_Pointer.graph.as_default():\n",
    "        tf.train.Saver().restore(Human_Joint_Pointer.sess, \"./snapshots/Human_Joint_Pointer/convnet1_highest_pcp.ckpt\")\n",
    "        \n",
    "with tf.device('/device:GPU:1'):\n",
    "    Human_Pose_Estimator = ann.ann(input_shape=[None,28])\n",
    "    with Human_Pose_Estimator.graph.as_default():\n",
    "        tf.train.Saver().restore(Human_Pose_Estimator.sess, \"./snapshots/Human_Pose_Estimator/66aug_(HL5&200)-Copy1.ckpt\")"
   ]
  },
  {
   "cell_type": "code",
   "execution_count": null,
   "metadata": {},
   "outputs": [],
   "source": [
    "tt=cv2.resize(cv2.imread(test_path1),(128,128))"
   ]
  },
  {
   "cell_type": "code",
   "execution_count": null,
   "metadata": {},
   "outputs": [],
   "source": [
    "predicted_mask = Human_Detector.sess.run(Human_Detector.score,\n",
    "                                               feed_dict={Human_Detector.x:[tt], Human_Detector.keep_prob:1.0})\n",
    "predicted_joint = Human_Joint_Pointer.sess.run(Human_Joint_Pointer.fc_regression,\n",
    "                                               feed_dict={Human_Joint_Pointer.x:[tt], Human_Joint_Pointer.keep_prob:1.0})\n",
    "predicted_pose = Human_.sess.run(Human_Detector.score,\n",
    "                                               feed_dict={Human_Detector.x:[tt], Human_Detector.keep_prob:1.0})"
   ]
  },
  {
   "cell_type": "code",
   "execution_count": null,
   "metadata": {},
   "outputs": [],
   "source": [
    "predicted_joint = Human_Joint_Pointer.sess.run(Human_Joint_Pointer.fc_regression,\n",
    "                                               feed_dict={Human_Joint_Pointer.x:[tt], Human_Joint_Pointer.keep_prob:1.0})"
   ]
  },
  {
   "cell_type": "code",
   "execution_count": null,
   "metadata": {},
   "outputs": [],
   "source": [
    "\n",
    "with tf.device('/device:GPU:0'):\n",
    "    Human_Joint_Pointer, _, _, _ = regressionnet.create_regression_net(data_shape=(128,128,3),\n",
    "                                                                           optimizer_type='adadelta',num_joints=14,\n",
    "                                                                           net_type='convnet1', gpu_memory_fraction=None)\n",
    "    with Human_Joint_Pointer.graph.as_default():\n",
    "        tf.train.Saver().restore(Human_Joint_Pointer.sess, \"./snapshots/Human_Joint_Pointer/convnet1_highest_pcp.ckpt\")\n",
    "\n",
    "with tf.device('/device:GPU:1'):\n",
    "    Human_Detector = Unet.Unet((128,128,3),(128,128,3),2)\n",
    "    with Human_Detector.graph.as_default():\n",
    "        tf.train.Saver().restore(Human_Detector.sess, \"./snapshots/Human_Detector/Unet_Human_only.ckpt\")\n",
    "        \n",
    "with tf.device('/device:GPU:2'):\n",
    "    Human_Pose_Estimator = ann.ann(input_shape=[None,28])\n",
    "    with Human_Pose_Estimator.graph.as_default():\n",
    "        tf.train.Saver().restore(Human_Pose_Estimator.sess, \"./snapshots/Human_Pose_Estimator/66aug_(HL5&200)-Copy1.ckpt\")\n"
   ]
  },
  {
   "cell_type": "code",
   "execution_count": null,
   "metadata": {},
   "outputs": [],
   "source": []
  }
 ],
 "metadata": {
  "kernelspec": {
   "display_name": "Python 3",
   "language": "python",
   "name": "python3"
  },
  "language_info": {
   "codemirror_mode": {
    "name": "ipython",
    "version": 3
   },
   "file_extension": ".py",
   "mimetype": "text/x-python",
   "name": "python",
   "nbconvert_exporter": "python",
   "pygments_lexer": "ipython3",
   "version": "3.5.2"
  }
 },
 "nbformat": 4,
 "nbformat_minor": 2
}
