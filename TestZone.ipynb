{
 "cells": [
  {
   "cell_type": "code",
   "execution_count": 1,
   "metadata": {},
   "outputs": [],
   "source": [
    "from scripts import dataset, tools, iterator\n",
    "from models import alexnet, regressionnet\n",
    "from copy import copy\n",
    "from tqdm import tqdm\n",
    "import math, os\n",
    "import tensorflow as tf\n",
    "import numpy as np\n",
    "tools.etc.set_GPU(\"3\")"
   ]
  },
  {
   "cell_type": "code",
   "execution_count": 2,
   "metadata": {
    "scrolled": false
   },
   "outputs": [],
   "source": [
    "with tf.device(\"/gpu:3\"):\n",
    "    net, loss_op, pose_loss_op, train_op = regressionnet.create_regression_net(\n",
    "        batch_size=100,\n",
    "        data_shape=(227,227,3),\n",
    "        num_joints=14)\n",
    "\n",
    "    with net.graph.as_default():\n",
    "        saver = tf.train.Saver()\n",
    "        train_it = iterator.create(\"./dataset/train_MET_L.csv\", batch_size=100, mode=\"Regression\", Shuffle=True)\n",
    "        test_it = iterator.create(\"./dataset/test_MET_L.csv\", batch_size=100, mode=\"Regression\", Shuffle=True)\n",
    "        #train_it = dataset.iterator(\"./dataset/train_MET_L.csv\", batch_size=100, mode=\"Regression\", Shuffle=True)\n",
    "        #test_it = dataset.iterator(\"./dataset/test_MET_L.csv\", batch_size=100, mode=\"Regression\", Shuffle=True)\n",
    "\n",
    "        summary_writer = tf.summary.FileWriter(\"./out/\", net.sess.graph)\n",
    "        summary_op = tf.summary.merge_all()\n",
    "        #fc_train_op = net.graph.get_operation_by_name('fc_train_op')"
   ]
  },
  {
   "cell_type": "code",
   "execution_count": 3,
   "metadata": {},
   "outputs": [],
   "source": [
    "fix_conv_iter = 10000\n",
    "summary_step = 50\n",
    "\n",
    "with net.graph.as_default():\n",
    "    summary_writer = tf.summary.FileWriter(\"./out\", net.sess.graph)\n",
    "    summary_op = tf.summary.merge_all()\n",
    "\n",
    "global_step = None\n",
    "\n",
    "#net.sess.run(train_it.iterator.make_initializer(train_it.data))\n",
    "#net.sess.run(test_it.iterator.make_initializer(test_it.data))\n",
    "cur_train_op = train_op"
   ]
  },
  {
   "cell_type": "code",
   "execution_count": null,
   "metadata": {},
   "outputs": [
    {
     "name": "stderr",
     "output_type": "stream",
     "text": [
      "[ Step : 539]:   5%|▌         | 539/10000 [1:17:53<24:12:49,  9.21s/it, 3702.70361328]"
     ]
    }
   ],
   "source": [
    "with tf.device(\"/gpu:3\"):\n",
    "    with tqdm(total = fix_conv_iter) as pbar:\n",
    "        for step in range(fix_conv_iter):\n",
    "            net.sess.run(train_it.iterator.make_initializer(train_it.data))\n",
    "            cost = 0.\n",
    "            cnt = 0\n",
    "            for _ in range(len(train_it.img_path)//train_it.batch_size):\n",
    "                batch = net.sess.run(train_it.iterator.get_next())\n",
    "\n",
    "                global_step, summary_str, _, loss_value = net.sess.run(\n",
    "                    [net.global_iter_counter,summary_op,cur_train_op,pose_loss_op],\n",
    "                    feed_dict={net.x : batch[0],\n",
    "                               'PoseInput/joints_ground_truth:0' : batch[1],\n",
    "                               'PoseInput/joints_is_valid:0': batch[2],\n",
    "                               'lr/conv_lr:0': 0.,\n",
    "                               'lr/fc_lr:0': 0.\n",
    "                                              })\n",
    "                cost+=loss_value\n",
    "                cnt+=1\n",
    "            pbar.update(1)\n",
    "            pbar.set_description(\"[ Step : \"+str(step+1)+\"]\")\n",
    "            pbar.set_postfix_str(cost/cnt)"
   ]
  },
  {
   "cell_type": "code",
   "execution_count": null,
   "metadata": {},
   "outputs": [],
   "source": []
  }
 ],
 "metadata": {
  "kernelspec": {
   "display_name": "Python 3",
   "language": "python",
   "name": "python3"
  },
  "language_info": {
   "codemirror_mode": {
    "name": "ipython",
    "version": 3
   },
   "file_extension": ".py",
   "mimetype": "text/x-python",
   "name": "python",
   "nbconvert_exporter": "python",
   "pygments_lexer": "ipython3",
   "version": "3.5.2"
  }
 },
 "nbformat": 4,
 "nbformat_minor": 2
}
