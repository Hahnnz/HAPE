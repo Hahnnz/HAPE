{
 "cells": [
  {
   "cell_type": "code",
   "execution_count": 1,
   "metadata": {},
   "outputs": [],
   "source": [
    "import matplotlib.pyplot as plt\n",
    "import cv2\n",
    "import numpy as np\n",
    "import tensorflow as tf\n",
    "from tools import tools\n",
    "from tools import Preprocessing as pp\n",
    "\n",
    "import tensorflow as tf\n",
    "\n",
    "%matplotlib inline"
   ]
  },
  {
   "cell_type": "code",
   "execution_count": 2,
   "metadata": {},
   "outputs": [],
   "source": [
    "import os\n",
    "# GPU Setting\n",
    "os.environ[\"CUDA_DEVICE_ORDER\"]=\"PCI_BUS_ID\"\n",
    "os.environ[\"CUDA_VISIBLE_DEVICES\"]=\"2,3\""
   ]
  },
  {
   "cell_type": "code",
   "execution_count": 3,
   "metadata": {},
   "outputs": [
    {
     "name": "stdout",
     "output_type": "stream",
     "text": [
      "Preparing Dataset...\n"
     ]
    },
    {
     "name": "stderr",
     "output_type": "stream",
     "text": [
      "/home/hahnz/.local/lib/python3.5/site-packages/skimage/transform/_warps.py:84: UserWarning: The default mode, 'constant', will be changed to 'reflect' in skimage 0.15.\n",
      "  warn(\"The default mode, 'constant', will be changed to 'reflect' in \"\n"
     ]
    }
   ],
   "source": [
    "print(\"Preparing Dataset...\")\n",
    "testset=pp.config(pp.csv_file)\n",
    "img_set,coor_set=pp.prepare_dataset.prepare(testset)"
   ]
  },
  {
   "cell_type": "code",
   "execution_count": 4,
   "metadata": {},
   "outputs": [],
   "source": [
    "Classes=np.array([\"Right ankle\", \"Right knee\", \"Right hip\", \"Left hip\", \"Left knee\", \"Left ankle\", \"Right wrist\",\n",
    "                  \"Right elbow\", \"Right shoulder\", \"Left shoulder\", \"Left elbow\", \"Left wrist\", \"Neck\", \"Head top\"])"
   ]
  },
  {
   "cell_type": "code",
   "execution_count": 5,
   "metadata": {},
   "outputs": [],
   "source": [
    "X = tf.placeholder(tf.float32, [None, 256,256,3])\n",
    "y = tf.placeholder(tf.float32, [None, 14])"
   ]
  },
  {
   "cell_type": "code",
   "execution_count": 6,
   "metadata": {},
   "outputs": [],
   "source": [
    "def _conv(data,output,ksize,padding,name):\n",
    "    return tf.layers.conv2d(data, filters=output, kernel_size=ksize, padding=padding, activation=tf.nn.relu, name=name)\n",
    "\n",
    "def _bn(data):\n",
    "    return tf.contrib.layers.batch_norm(data)\n",
    "\n",
    "def _max_pooling(data,name):\n",
    "    return tf.nn.max_pool(data, ksize=[1, 2, 2, 1], strides=[1, 2, 2, 1], padding=\"SAME\", name=name)"
   ]
  },
  {
   "cell_type": "code",
   "execution_count": 7,
   "metadata": {},
   "outputs": [],
   "source": [
    "def _conv_block(idx,tensor,filters,ksize,padding):\n",
    "    conv1 = _conv(tensor, filters, ksize, padding, \"conv\"+str(idx)+\"_1\")\n",
    "    bn1 = _bn(conv1)\n",
    "\n",
    "    conv2 = _conv(bn1, filters, ksize, padding, \"conv\"+str(idx)+\"_2\")\n",
    "    bn2 = _bn(conv2)\n",
    "\n",
    "    pool = _max_pooling(bn2, \"pool\"+str(idx))\n",
    "    \n",
    "    return pool\n",
    "    def get_shape():\n",
    "        model_shape = list"
   ]
  },
  {
   "cell_type": "code",
   "execution_count": 8,
   "metadata": {},
   "outputs": [],
   "source": [
    "def fc(x, num_in, num_out, name, relu=True):\n",
    "    \n",
    "    with tf.variable_scope(name) as scope:\n",
    "        weights = tf.get_variable('weights', shape=[num_in, num_out], trainable=True)\n",
    "        biases = tf.get_variable('biases', [num_out], trainable=True)\n",
    "        act = tf.nn.xw_plus_b(x, weights, biases, name=scope.name)\n",
    "\n",
    "    if relu : return tf.nn.relu(act)\n",
    "    else: return act"
   ]
  },
  {
   "cell_type": "code",
   "execution_count": 9,
   "metadata": {},
   "outputs": [],
   "source": [
    "def dropout(x):\n",
    "    return tf.nn.dropout(x, 0.5)"
   ]
  },
  {
   "cell_type": "code",
   "execution_count": 10,
   "metadata": {},
   "outputs": [],
   "source": [
    "conv_layer1 = _conv_block(1,X,32,11,\"SAME\")\n",
    "\n",
    "conv_layer2 = _conv_block(2,conv_layer1,64,7,\"SAME\")\n",
    "\n",
    "conv_layer3 = _conv_block(3,conv_layer2,128,5,\"SAME\")\n",
    "\n",
    "conv_layer4 = _conv_block(4,conv_layer3,256,3,\"SAME\")\n",
    "\n",
    "num_nodes=int(conv_layer4.get_shape()[1])*int(conv_layer4.get_shape()[2])*int(conv_layer4.get_shape()[3])\n",
    "\n",
    "reshaped_conv4 = tf.reshape(conv_layer4, [-1, num_nodes])\n",
    "\n",
    "fc5 = fc(reshaped_conv4, num_nodes, 4096, name=\"fc5\")\n",
    "drop5 = dropout(fc5)\n",
    "\n",
    "fc6 = fc(drop5, 4096, Classes.shape[0], name=\"fc6\")"
   ]
  },
  {
   "cell_type": "code",
   "execution_count": 11,
   "metadata": {},
   "outputs": [],
   "source": [
    "init = tf.global_variables_initializer()\n",
    "sess = tf.Session()\n",
    "sess.run(init)"
   ]
  },
  {
   "cell_type": "code",
   "execution_count": null,
   "metadata": {},
   "outputs": [],
   "source": [
    "# training Codes"
   ]
  }
 ],
 "metadata": {
  "kernelspec": {
   "display_name": "Python 3",
   "language": "python",
   "name": "python3"
  },
  "language_info": {
   "codemirror_mode": {
    "name": "ipython",
    "version": 3
   },
   "file_extension": ".py",
   "mimetype": "text/x-python",
   "name": "python",
   "nbconvert_exporter": "python",
   "pygments_lexer": "ipython3",
   "version": "3.5.2"
  }
 },
 "nbformat": 4,
 "nbformat_minor": 2
}
